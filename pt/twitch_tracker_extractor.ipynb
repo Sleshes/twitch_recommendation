{
 "cells": [
  {
   "cell_type": "code",
   "execution_count": null,
   "id": "8d45f22f-281a-4bd1-a060-305a19d6f9a3",
   "metadata": {},
   "outputs": [],
   "source": [
    "import scrapy\n",
    "from scrapy import Selector\n",
    "from selenium import webdriver\n",
    "from selenium.webdriver.common.by import By\n",
    "from selenium.webdriver.support.ui import WebDriverWait\n",
    "from selenium.webdriver.support import expected_conditions as EC\n",
    "from selenium.webdriver.chrome.service import Service\n",
    "from webdriver_manager.chrome import ChromeDriverManager\n",
    "from logzero import logfile, logger\n",
    "from random import randint\n",
    "import pandas as pd\n",
    "from datetime import datetime"
   ]
  },
  {
   "cell_type": "code",
   "execution_count": null,
   "id": "50c5e71a-367c-4005-8656-892b4c6899c3",
   "metadata": {},
   "outputs": [],
   "source": [
    "service = Service(executable_path=ChromeDriverManager().install())\n",
    "driver = webdriver.Chrome(service=service)\n",
    "\n",
    "def random_timewait(inicio, fim):\n",
    "    n = randint(inicio, fim)\n",
    "    driver.implicitly_wait(n)"
   ]
  },
  {
   "cell_type": "code",
   "execution_count": null,
   "id": "12e44276-05b2-4092-bf8b-914e386e0f25",
   "metadata": {},
   "outputs": [],
   "source": [
    "nome_streammers = []\n",
    "#rodando da pagina 1 ate 50 + total 50mil streammers (o maximo q consegui por enquento foram só 2500)\n",
    "today = datetime.now().strftime('%Y%m%d')\n"
   ]
  },
  {
   "cell_type": "code",
   "execution_count": null,
   "id": "8ce34da3-8ff1-401b-bbfe-96a1714d033a",
   "metadata": {},
   "outputs": [],
   "source": [
    "for n in range(1,100):\n",
    "    # driver.get(f\"https://twitchtracker.com/channels/viewership/portuguese?page={n}\") #só top 2500\n",
    "    driver.get(f\"https://twitchtracker.com/channels/live/portuguese?page={n}\") #quando rodei tinha só até a pagina 50\n",
    "    random_timewait(15,30)\n",
    "    lista_td = driver.find_elements(By.XPATH, \"//tr/td[3]\")\n",
    "    for element in lista_td:\n",
    "        nome_streammers.append(element.text)\n",
    "    random_timewait(1,20)\n",
    "    df = pd.DataFrame(nome_streammers, columns=['user_name'])\n",
    "    df.to_csv(f'/db/twitch_tracker_streammers_channels.csv', mode='w', sep=\";\", header=True, index=False)"
   ]
  }
 ],
 "metadata": {
  "kernelspec": {
   "display_name": "Python 3 (ipykernel)",
   "language": "python",
   "name": "python3"
  },
  "language_info": {
   "codemirror_mode": {
    "name": "ipython",
    "version": 3
   },
   "file_extension": ".py",
   "mimetype": "text/x-python",
   "name": "python",
   "nbconvert_exporter": "python",
   "pygments_lexer": "ipython3",
   "version": "3.9.7"
  }
 },
 "nbformat": 4,
 "nbformat_minor": 5
}
