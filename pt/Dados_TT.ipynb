{
 "cells": [
  {
   "cell_type": "code",
   "execution_count": null,
   "metadata": {
    "id": "DBShWiunli_E"
   },
   "outputs": [],
   "source": [
    "from dotenv import load_dotenv\n",
    "import os\n",
    "import json\n",
    "import pandas as pd\n",
    "\n",
    "#Carrega variaveis de ambiente para parametrização\n",
    "load_dotenv('vars.env')\n",
    "\n",
    "from twitchAPI.twitch import Twitch\n",
    "\n",
    "#Autenticacao\n",
    "twitch = Twitch(os.environ.get('cli_id'), os.environ.get('cli_token'))"
   ]
  },
  {
   "cell_type": "code",
   "execution_count": null,
   "metadata": {},
   "outputs": [],
   "source": [
    "#Consultar ids de top 2500 streams from twitchtracker.com\n",
    "nomes_streams_TT = pd.read_csv('db/twitch_tracker_streamm_names.csv', sep=',')['user_name'].tolist()\n",
    "\n",
    "#Obtendo IDs dos top 2500 streammers PT from Twitch Tracker\n",
    "df_schema = pd.DataFrame({'id': pd.Series(dtype='str'),\n",
    "                              'login': pd.Series(dtype='str'),\n",
    "                              'display_name': pd.Series(dtype='str'),\n",
    "                              'type': pd.Series(dtype='str'),\n",
    "                              'broadcaster_type': pd.Series(dtype='str'),\n",
    "                              'description': pd.Series(dtype='str'),\n",
    "                              'profile_image_url': pd.Series(dtype='str'),\n",
    "                              'offline_image_url': pd.Series(dtype='str'),\n",
    "                              'view_count': pd.Series(dtype='int'),\n",
    "                              'created_at': pd.Series(dtype='str'),\n",
    "                              })\n",
    "df_schema.to_csv('db/TT_get_users.csv', mode='w', header=True, sep=\";\", index=False)\n",
    "\n",
    "for nome_stream in nomes_streams_TT:\n",
    "    try:\n",
    "        resultado_consulta = twitch.get_users(logins=nome_stream)\n",
    "    except:\n",
    "        print(f\"Não foi possivel consultar: {nome_stream}\")\n",
    "    if resultado_consulta['data'] != []:\n",
    "        data_resultado_consulta = pd.DataFrame(resultado_consulta['data'])\n",
    "        data_resultado_consulta.to_csv('db/TT_get_users.csv', mode='a', header=False, sep=';', index=False)"
   ]
  },
  {
   "cell_type": "code",
   "execution_count": null,
   "metadata": {
    "colab": {
     "base_uri": "https://localhost:8080/",
     "height": 206
    },
    "executionInfo": {
     "elapsed": 308,
     "status": "ok",
     "timestamp": 1644079246419,
     "user": {
      "displayName": "Sleshanniecode Player",
      "photoUrl": "https://lh3.googleusercontent.com/a-/AOh14Gix27Vcn73JQFy7Pw1L52En0aP_08o8TUFZy52ujQ=s64",
      "userId": "02687479860303225811"
     },
     "user_tz": 180
    },
    "id": "zM0eHOKUbPns",
    "outputId": "52505268-63d8-4c8f-aa8e-03eff8bdf779"
   },
   "outputs": [],
   "source": [
    "ids_TT = pd.read_csv('/content/drive/MyDrive/Colab Notebooks/twitch_tcc/TT_get_users.csv', sep=';')\n",
    "ids_TT.head()"
   ]
  },
  {
   "cell_type": "code",
   "execution_count": null,
   "metadata": {
    "colab": {
     "base_uri": "https://localhost:8080/"
    },
    "executionInfo": {
     "elapsed": 481719,
     "status": "ok",
     "timestamp": 1644082347035,
     "user": {
      "displayName": "Sleshanniecode Player",
      "photoUrl": "https://lh3.googleusercontent.com/a-/AOh14Gix27Vcn73JQFy7Pw1L52En0aP_08o8TUFZy52ujQ=s64",
      "userId": "02687479860303225811"
     },
     "user_tz": 180
    },
    "id": "dXAUMBYhakTb",
    "outputId": "b2571641-dd30-4563-c0df-7c9181d05cb2"
   },
   "outputs": [],
   "source": [
    "#Consultar ids de top 2500 streams from Twitch Tracker\n",
    "#twitchtracker.com\n",
    "ids_TT = pd.read_csv('db/TT_get_users.csv', sep=';')['id'].tolist()\n",
    "\n",
    "#Obtendo IDs dos top 2500 streammers PT from Twitch Tracker\n",
    "df_brocast = pd.DataFrame({'broadcaster_id': pd.Series(dtype='str'),\n",
    "                              'broadcaster_language': pd.Series(dtype='str'),\n",
    "                              'broadcaster_login': pd.Series(dtype='str'),\n",
    "                              'broadcaster_name': pd.Series(dtype='str'),\n",
    "                              'delay': pd.Series(dtype='str'),\n",
    "                              'game_id': pd.Series(dtype='str'),\n",
    "                              'game_name': pd.Series(dtype='str'),\n",
    "                              'title': pd.Series(dtype='int'),\n",
    "                              })\n",
    "df_schema.to_csv('/content/drive/MyDrive/Colab Notebooks/twitch_tcc/TT_get_channels.csv', mode='w', header=True, sep=\";\", index=False)\n",
    "\n",
    "for broadcaster_id in ids_TT:\n",
    "    try:\n",
    "        resultado_consulta = twitch.get_channel_information(broadcaster_id=f'{broadcaster_id}')\n",
    "    except:\n",
    "        print(f\"Não foi possivel consultar: {broadcaster_id}\")\n",
    "    if resultado_consulta['data'] != []:\n",
    "        data_resultado_consulta = pd.DataFrame(resultado_consulta['data'])\n",
    "        data_resultado_consulta.to_csv('db/TT_get_channels.csv', mode='a', header=False, sep=';', index=False)"
   ]
  }
 ],
 "metadata": {
  "colab": {
   "authorship_tag": "ABX9TyNuB1+jAva+twhaFcjTP8dM",
   "collapsed_sections": [],
   "name": "Dados_TT.ipynb",
   "provenance": []
  },
  "kernelspec": {
   "display_name": "Python 3 (ipykernel)",
   "language": "python",
   "name": "python3"
  },
  "language_info": {
   "codemirror_mode": {
    "name": "ipython",
    "version": 3
   },
   "file_extension": ".py",
   "mimetype": "text/x-python",
   "name": "python",
   "nbconvert_exporter": "python",
   "pygments_lexer": "ipython3",
   "version": "3.9.7"
  }
 },
 "nbformat": 4,
 "nbformat_minor": 4
}
