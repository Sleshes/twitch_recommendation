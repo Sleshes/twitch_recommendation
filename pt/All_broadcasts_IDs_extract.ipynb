{
 "cells": [
  {
   "cell_type": "markdown",
   "metadata": {
    "id": "OonCHYU_Yucl"
   },
   "source": [
    "### Instalar bibliotecas"
   ]
  },
  {
   "cell_type": "code",
   "execution_count": null,
   "metadata": {
    "colab": {
     "base_uri": "https://localhost:8080/"
    },
    "executionInfo": {
     "elapsed": 4588,
     "status": "ok",
     "timestamp": 1643060058100,
     "user": {
      "displayName": "Sleshanniecode Player",
      "photoUrl": "https://lh3.googleusercontent.com/a-/AOh14Gix27Vcn73JQFy7Pw1L52En0aP_08o8TUFZy52ujQ=s64",
      "userId": "02687479860303225811"
     },
     "user_tz": 180
    },
    "id": "D96adO_vZ_2g",
    "outputId": "3203775b-2625-431a-ac58-481efd72a7ac"
   },
   "outputs": [],
   "source": [
    "!pip install python-dotenv"
   ]
  },
  {
   "cell_type": "code",
   "execution_count": null,
   "metadata": {
    "colab": {
     "base_uri": "https://localhost:8080/"
    },
    "executionInfo": {
     "elapsed": 8728,
     "status": "ok",
     "timestamp": 1643060068406,
     "user": {
      "displayName": "Sleshanniecode Player",
      "photoUrl": "https://lh3.googleusercontent.com/a-/AOh14Gix27Vcn73JQFy7Pw1L52En0aP_08o8TUFZy52ujQ=s64",
      "userId": "02687479860303225811"
     },
     "user_tz": 180
    },
    "id": "V9SxqhUHz9F0",
    "outputId": "5fe48754-631e-4829-854d-0bd381c9aa1e"
   },
   "outputs": [],
   "source": [
    "!pip install twitchAPI\n",
    "#doc https://pytwitchapi.readthedocs.io/"
   ]
  },
  {
   "cell_type": "code",
   "execution_count": null,
   "metadata": {
    "colab": {
     "base_uri": "https://localhost:8080/"
    },
    "executionInfo": {
     "elapsed": 408,
     "status": "ok",
     "timestamp": 1643060058501,
     "user": {
      "displayName": "Sleshanniecode Player",
      "photoUrl": "https://lh3.googleusercontent.com/a-/AOh14Gix27Vcn73JQFy7Pw1L52En0aP_08o8TUFZy52ujQ=s64",
      "userId": "02687479860303225811"
     },
     "user_tz": 180
    },
    "id": "UEMgr6zXexmW",
    "outputId": "38f08307-c4a2-4c31-f0c5-706d3597f2ef"
   },
   "outputs": [],
   "source": [
    "!python --version"
   ]
  },
  {
   "cell_type": "markdown",
   "metadata": {
    "id": "X-Y4EV6cd9bV"
   },
   "source": [
    "### Preparar Twitch Client"
   ]
  },
  {
   "cell_type": "code",
   "execution_count": null,
   "metadata": {
    "colab": {
     "base_uri": "https://localhost:8080/"
    },
    "executionInfo": {
     "elapsed": 264,
     "status": "ok",
     "timestamp": 1643060058764,
     "user": {
      "displayName": "Sleshanniecode Player",
      "photoUrl": "https://lh3.googleusercontent.com/a-/AOh14Gix27Vcn73JQFy7Pw1L52En0aP_08o8TUFZy52ujQ=s64",
      "userId": "02687479860303225811"
     },
     "user_tz": 180
    },
    "id": "rDWe6miKaXt1",
    "outputId": "a64ed241-6c98-400a-d33b-0ae767a0532c"
   },
   "outputs": [],
   "source": [
    "from dotenv import load_dotenv\n",
    "import os\n",
    "import json\n",
    "import pandas as pd\n",
    "\n",
    "#Carrega variaveis de ambiente para parametrização\n",
    "load_dotenv('vars.env')\n"
   ]
  },
  {
   "cell_type": "code",
   "execution_count": null,
   "metadata": {
    "id": "9_B2UDM7iJ89"
   },
   "outputs": [],
   "source": [
    "#Para obter as autenticações deve-se ter um aplicativo cadastrado em https://dev.twitch.tv/console\n",
    "#Acessar o nome do aplicativo criado algo similar a https://dev.twitch.tv/console/apps/**********************\n",
    "#Copiar os campos ID do cliente e Segredo de cliente\n",
    "\n",
    "\n",
    "#documentacao das infos possivel de obter da api https://dev.twitch.tv/docs/api/reference\n",
    "\n",
    "#listas de todas as tags\n",
    "#https://www.twitch.tv/directory/all/tags\n",
    "\n",
    "from twitchAPI.twitch import Twitch\n",
    "\n",
    "# create instance of twitch API and create app authentication\n",
    "twitch = Twitch(os.environ.get('cli_id'), os.environ.get('cli_token'))\n",
    "\n",
    "#lista de canais (arquivo all_broadcaster_dict.txt) de Feb de 2015 \n",
    "#obtidos em https://www.dropbox.com/s/vsbzeh69ddjpqx6/broadcaster.rar?dl=0&file_subpath=%2Fall_broadcaster_dict.txt\n",
    "#fonte: https://clivecast.github.io/\n",
    "#The file \"all_broadcaster_dict.txt\" is for academic use only as the source determined"
   ]
  },
  {
   "cell_type": "code",
   "execution_count": null,
   "metadata": {
    "colab": {
     "background_save": true,
     "base_uri": "https://localhost:8080/"
    },
    "id": "DwjQDAmz73u8",
    "outputId": "18ca59de-11da-49b1-aa91-9f8c67771fe5"
   },
   "outputs": [],
   "source": [
    "#O arquivo all_broadcaster_dict.txt tem 2.388.705 registros e demorou mais de 160 horas para extrair toda a base de canais\n",
    "#recomenda-se dividir o a lista de canais em arquivos menos para o processamento\n",
    "#O uso do google colab tem a limitação de 6 horas de tempo de execução, no entando após 3 horas de execução o ambiente verifica a inatividade\n",
    "#foi preciso rodar esse trecho mais de uma vez pois as vezes as consultas dão timeout depois de obter 100mil a 50mil registros\n",
    "with open('/content/drive/MyDrive/Colab Notebooks/twitch_tcc/all_broadcaster_dict.txt', 'r') as f:\n",
    "    lista_broadcaster_id = [line.strip() for line in f]\n",
    "\n",
    "df_brocast = pd.DataFrame({'broadcaster_id': pd.Series(dtype='str'),\n",
    "                              'broadcaster_login': pd.Series(dtype='str'),\n",
    "                              'broadcaster_name': pd.Series(dtype='str'),\n",
    "                              'broadcaster_language': pd.Series(dtype='str'),\n",
    "                              'game_id': pd.Series(dtype='str'),\n",
    "                              'game_name': pd.Series(dtype='str'),\n",
    "                              'title': pd.Series(dtype='str'),\n",
    "                              'delay': pd.Series(dtype='int'),\n",
    "                              })\n",
    "#Cria o arquivo\n",
    "#Comentar esta linha com o \"mode=w\" caso re-utilize esse trecho de código, se não ira sobreescrever o que já foi processado\n",
    "df_brocast.to_csv('/db/base_canais.csv', mode='w', sep=';', header=True)\n",
    "for broadcaster_id in lista_broadcaster_id:\n",
    "  try:\n",
    "    resultado_consulta = twitch.get_channel_information(broadcaster_id=f'{broadcaster_id}')\n",
    "    if resultado_consulta['data'] != []:\n",
    "      data_resultado_consulta = pd.DataFrame(resultado_consulta['data'])\n",
    "      data_resultado_consulta.to_csv('/db/base_canais.csv', mode='a', sep=';', header=False)\n",
    "  except:\n",
    "    print(f\"Não foi possível obter dados de: {broadcaster_id}\")"
   ]
  }
 ],
 "metadata": {
  "colab": {
   "authorship_tag": "ABX9TyNTerBaeNrGngs/kW+sVyKH",
   "collapsed_sections": [],
   "mount_file_id": "1UD_DJlLBYMewIKsiUCDDvJVzjLP-st-x",
   "name": "All_broadcasts_IDs_extract.ipynb",
   "provenance": [
    {
     "file_id": "1UD_DJlLBYMewIKsiUCDDvJVzjLP-st-x",
     "timestamp": 1643113667211
    }
   ]
  },
  "kernelspec": {
   "display_name": "Python 3 (ipykernel)",
   "language": "python",
   "name": "python3"
  },
  "language_info": {
   "codemirror_mode": {
    "name": "ipython",
    "version": 3
   },
   "file_extension": ".py",
   "mimetype": "text/x-python",
   "name": "python",
   "nbconvert_exporter": "python",
   "pygments_lexer": "ipython3",
   "version": "3.9.7"
  }
 },
 "nbformat": 4,
 "nbformat_minor": 4
}
