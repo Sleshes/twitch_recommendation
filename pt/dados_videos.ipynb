{
 "cells": [
  {
   "cell_type": "code",
   "execution_count": 1,
   "metadata": {},
   "outputs": [],
   "source": [
    "import scrapy\n",
    "from scrapy import Selector\n",
    "from selenium import webdriver\n",
    "from selenium.webdriver.common.by import By\n",
    "from selenium.webdriver.support.ui import WebDriverWait\n",
    "from selenium.webdriver.support import expected_conditions as EC\n",
    "from selenium.webdriver.chrome.service import Service\n",
    "from selenium.webdriver.common.keys import Keys\n",
    "from webdriver_manager.chrome import ChromeDriverManager\n",
    "from logzero import logfile, logger\n",
    "from random import randint"
   ]
  },
  {
   "cell_type": "code",
   "execution_count": 2,
   "metadata": {
    "id": "wmbmzmKauy5j"
   },
   "outputs": [],
   "source": [
    "from dotenv import load_dotenv\n",
    "import os\n",
    "import json\n",
    "import pandas as pd\n",
    "import numpy as np\n",
    "from datetime import datetime\n",
    "import twitchAPI.types as types\n",
    "\n",
    "datetime_inicio_str='2022-01-01 00:00:00'\n",
    "datetime_fim_str='2022-03-31 23:59:59'\n",
    "datetime_inicio = datetime.strptime(datetime_inicio_str, '%Y-%m-%d %H:%M:%S')\n",
    "datetime_fim = datetime.strptime(datetime_fim_str, '%Y-%m-%d %H:%M:%S')\n",
    "\n",
    "#Carrega variaveis de ambiente para parametrização\n",
    "load_dotenv('vars.env')\n",
    "\n",
    "from twitchAPI.twitch import Twitch\n",
    "\n",
    "#Autenticacao\n",
    "twitch = Twitch(os.environ.get('cli_id'), os.environ.get('cli_token'))"
   ]
  },
  {
   "cell_type": "markdown",
   "metadata": {},
   "source": [
    "# Get Clips"
   ]
  },
  {
   "cell_type": "markdown",
   "metadata": {},
   "source": [
    "### Obter ultimos 100 clips de videos no periodo"
   ]
  },
  {
   "cell_type": "code",
   "execution_count": null,
   "metadata": {},
   "outputs": [],
   "source": [
    "df_bruto = pd.read_csv('DF_STREAM_PT_NOME_IDS_wteam.csv', sep=';')"
   ]
  },
  {
   "cell_type": "code",
   "execution_count": null,
   "metadata": {},
   "outputs": [],
   "source": [
    "df_clips = pd.DataFrame({'id': pd.Series(dtype='str'),\n",
    "                              'url': pd.Series(dtype='str'),\n",
    "                              'user_login': pd.Series(dtype='str'),\n",
    "                              'embed_url': pd.Series(dtype='str'),\n",
    "                              'broadcaster_id': pd.Series(dtype='str'),\n",
    "                              'broadcaster_name': pd.Series(dtype='str'),\n",
    "                              'creator_id': pd.Series(dtype='str'),\n",
    "                              'creator_name': pd.Series(dtype='str'),\n",
    "                              'video_id': pd.Series(dtype='str'),\n",
    "                              'game_id': pd.Series(dtype='str'),\n",
    "                              'language': pd.Series(dtype='str'),\n",
    "                              'title': pd.Series(dtype='str'),\n",
    "                              'view_count': pd.Series(dtype='int'),\n",
    "                              'created_at': pd.Series(dtype='str'),\n",
    "                              'thumbnail_url': pd.Series(dtype='str'),\n",
    "                              'duration': pd.Series(dtype='float'),\n",
    "                              })\n",
    "df_clips.to_csv(f'clips_jan_mar2022.csv', mode='w', sep=\";\", header=True, index=False)\n",
    "for index, row in df_bruto.iterrows():\n",
    "    try:\n",
    "        resultado_consulta = twitch.get_clips(broadcaster_id=row['broadcaster_id'], first=100, started_at=datetime_inicio, ended_at=datetime_fim)\n",
    "        data_resultado_consulta = pd.DataFrame(resultado_consulta['data'])\n",
    "        data_resultado_consulta.to_csv('clips_jan_mar2022.csv', mode='a', sep=\";\", header=False, index=False)\n",
    "    except:\n",
    "        print('user nao tem clip', row['broadcaster_id'])"
   ]
  },
  {
   "cell_type": "code",
   "execution_count": 21,
   "metadata": {},
   "outputs": [
    {
     "name": "stdout",
     "output_type": "stream",
     "text": [
      "<class 'pandas.core.frame.DataFrame'>\n",
      "RangeIndex: 222347 entries, 0 to 222346\n",
      "Data columns (total 16 columns):\n",
      " #   Column            Non-Null Count   Dtype  \n",
      "---  ------            --------------   -----  \n",
      " 0   id                222347 non-null  object \n",
      " 1   url               222347 non-null  object \n",
      " 2   user_login        222347 non-null  object \n",
      " 3   embed_url         222347 non-null  int64  \n",
      " 4   broadcaster_id    222347 non-null  object \n",
      " 5   broadcaster_name  222347 non-null  int64  \n",
      " 6   creator_id        222347 non-null  object \n",
      " 7   creator_name      89164 non-null   float64\n",
      " 8   video_id          221314 non-null  float64\n",
      " 9   game_id           222234 non-null  object \n",
      " 10  language          222330 non-null  object \n",
      " 11  title             222347 non-null  int64  \n",
      " 12  view_count        222347 non-null  object \n",
      " 13  created_at        222347 non-null  object \n",
      " 14  thumbnail_url     222347 non-null  float64\n",
      " 15  duration          0 non-null       float64\n",
      "dtypes: float64(4), int64(3), object(9)\n",
      "memory usage: 27.1+ MB\n"
     ]
    }
   ],
   "source": [
    "df_clips = pd.read_csv(f'clips_jan_mar2022.csv', sep=\";\", encoding='iso-8859-1')\n",
    "df_clips.info()"
   ]
  },
  {
   "cell_type": "markdown",
   "metadata": {},
   "source": [
    "# Get videos\n",
    "    tipos de video:\n",
    "    -ALL\n",
    "    -UPLOAD\n",
    "    -ARCHIVE\n",
    "    -HIGHLIGHT\n",
    "    -UNKNOWN\n",
    "- Atualmente NAO é possivel via api associar as categorias de um video. não tem vinculado a informação de capitulos\n",
    "- e para achar os marcadores, precisa de autenticacao"
   ]
  },
  {
   "cell_type": "markdown",
   "metadata": {},
   "source": [
    "### Obter categorias/capitulos do video"
   ]
  },
  {
   "cell_type": "code",
   "execution_count": null,
   "metadata": {},
   "outputs": [],
   "source": [
    "df_split = np.array_split(df_bruto, 11)\n",
    "for n in range(0,11):\n",
    "    df = df_split[n]\n",
    "    df = df.loc[(df.total_followers >= 30)] #há 13.997  streamns com menos menos 60% de 50 seguidores(30) que é o minimo do objetivo para se tornar afiliado da twitch\n",
    "    service = Service(executable_path=ChromeDriverManager().install())\n",
    "    driver = webdriver.Chrome(service=service)\n",
    "    driver.get('chrome://settings/clearBrowserData') #limpa o browser\n",
    "    #Criação do arquivo\n",
    "    schema_arquivo = pd.DataFrame({\n",
    "                        'id': pd.Series(dtype='str'),\n",
    "                        'stream_id': pd.Series(dtype='str'),\n",
    "                        'user_id': pd.Series(dtype='str'),\n",
    "                        'user_login': pd.Series(dtype='str'),\n",
    "                        'user_name': pd.Series(dtype='str'),\n",
    "                        'title': pd.Series(dtype='str'),\n",
    "                        'description': pd.Series(dtype='str'),\n",
    "                        'created_at': pd.Series(dtype='str'),\n",
    "                        'published_at': pd.Series(dtype='str'),\n",
    "                        'url': pd.Series(dtype='str'),\n",
    "                        'thumbnail_url': pd.Series(dtype='str'),\n",
    "                        'viewable': pd.Series(dtype='str'),\n",
    "                        'view_count': pd.Series(dtype='int'),\n",
    "                        'language': pd.Series(dtype='str'),\n",
    "                        'type': pd.Series(dtype='str'),\n",
    "                        'duration': pd.Series(dtype='str'),\n",
    "                        'muted_segments': pd.Series(dtype='str'),\n",
    "                        'game_id': pd.Series(dtype='str'),\n",
    "                        'game_name': pd.Series(dtype='str'),\n",
    "                        'game_duration': pd.Series(dtype='str')\n",
    "    })\n",
    "    schema_arquivo.to_csv(f'chapters_pt{n}.csv', mode='w', sep=\";\", header=True, index=False)\n",
    "    #Iteração do broadcaster_id\n",
    "    for index_id, row_id in df.iterrows():\n",
    "        #Busca ultimas 100 lives\n",
    "        resultado_consulta = twitch.get_videos(user_id=row_id['broadcaster_id'], first=100, period=types.TimePeriod.ALL, sort=types.SortMethod.TIME)\n",
    "        try:\n",
    "            data_resultado_consulta = pd.DataFrame(resultado_consulta['data'])\n",
    "            #filtrar lives dentro do periodo de estudo\n",
    "            data_resultado_consulta['created_at'] = pd.to_datetime(data_resultado_consulta['created_at'])\n",
    "            data_resultado_consulta = data_resultado_consulta[(data_resultado_consulta['created_at'] >= datetime_inicio_str)&(data_resultado_consulta['created_at'] <= datetime_fim_str)]\n",
    "            data_resultado_consulta['game_id'] = None\n",
    "            data_resultado_consulta['game_name'] = None\n",
    "            data_resultado_consulta['game_duration'] = None\n",
    "            #Iteração das urls do broadcaster_id\n",
    "            for index, row in data_resultado_consulta.iterrows():\n",
    "                tentativa = 0\n",
    "                driver.get(f\"{row['url']}\") #Acessa url do video\n",
    "                driver.implicitly_wait(6)\n",
    "                try:\n",
    "                    driver.find_elements(By.XPATH, \"//*[contains(text(), 'Começar a assistir')]\")[0].click() #liberar conteudo video\n",
    "                except:\n",
    "                    pass\n",
    "                try:\n",
    "                    driver.find_elements(By.XPATH, '//*[@id=\"root\"]/div/div[2]/div[1]/main/div[2]/div[3]/div/div/div[2]/div/div[2]/div/div/div/div/div[6]/div/div[2]/div[1]/div[2]/div[2]/button')[0].click() #capitulos\n",
    "                    driver.implicitly_wait(3)\n",
    "                    lista_elem_capitulos = driver.find_elements(By.XPATH, \"//div[@class='Layout-sc-nxg1ff-0 jAEOcJ']\")\n",
    "                    #Iteração dos capitulos das urls do broadcast_id\n",
    "                    for elem in range(0,len(lista_elem_capitulos)):\n",
    "                        nome_capitulo = driver.find_elements(By.XPATH, \"//div[@class='Layout-sc-nxg1ff-0 media-row__info-text']\")[elem].text \n",
    "                        game_id = twitch.get_games(names=[nome_capitulo])['data'][0]['id']\n",
    "                        duracao = driver.find_elements(By.XPATH, \"//div[@class='Layout-sc-nxg1ff-0 media-row__info-description']\")[elem].text \n",
    "                        row['game_id'] = game_id\n",
    "                        row['game_name'] = nome_capitulo\n",
    "                        row['game_duration'] = duracao\n",
    "                        pd.DataFrame([row.to_dict()]).to_csv(f'chapters_pt{n}.csv', mode='a', sep=\";\", header=False, index=False)            \n",
    "                        # print(nome_capitulo, game_id, duracao) #debug\n",
    "                except:\n",
    "                    nome_capitulo = driver.find_elements(By.XPATH, '//*[@id=\"root\"]/div/div[2]/div[1]/main/div[2]/div[3]/div/div/div[1]/div[1]/div[2]/div/div[1]/div/div[1]/div[1]/div[2]/div/div/a/p')[0].text\n",
    "                    game_id = twitch.get_games(names=[nome_capitulo])['data'][0]['id']\n",
    "                    duracao = None\n",
    "                    row['game_id'] = game_id\n",
    "                    row['game_name'] = nome_capitulo\n",
    "                    row['game_duration'] = duracao\n",
    "                    # print(nome_capitulo, game_id, duracao) #debug\n",
    "                    pd.DataFrame([row.to_dict()]).to_csv(f'chapters_pt{n}.csv', mode='a', sep=\";\", header=False, index=False) \n",
    "\n",
    "        except:\n",
    "            nome_capitulo = pd.DataFrame([row_id.to_dict()]).to_csv('streammers_sem_video.csv', mode='a', sep=\";\", header=False, index=False)"
   ]
  },
  {
   "cell_type": "code",
   "execution_count": 16,
   "metadata": {},
   "outputs": [
    {
     "name": "stdout",
     "output_type": "stream",
     "text": [
      "<class 'pandas.core.frame.DataFrame'>\n",
      "Int64Index: 37899 entries, 0 to 4776\n",
      "Data columns (total 20 columns):\n",
      " #   Column          Non-Null Count  Dtype  \n",
      "---  ------          --------------  -----  \n",
      " 0   id              37899 non-null  int64  \n",
      " 1   stream_id       37899 non-null  int64  \n",
      " 2   user_id         37899 non-null  int64  \n",
      " 3   user_login      37899 non-null  object \n",
      " 4   user_name       37899 non-null  object \n",
      " 5   title           37842 non-null  object \n",
      " 6   description     1330 non-null   object \n",
      " 7   created_at      37899 non-null  object \n",
      " 8   published_at    37898 non-null  object \n",
      " 9   url             37899 non-null  object \n",
      " 10  thumbnail_url   37878 non-null  object \n",
      " 11  viewable        37899 non-null  object \n",
      " 12  view_count      37899 non-null  object \n",
      " 13  language        37899 non-null  object \n",
      " 14  type            37899 non-null  object \n",
      " 15  duration        37886 non-null  object \n",
      " 16  muted_segments  13 non-null     float64\n",
      " 17  game_id         37899 non-null  object \n",
      " 18  game_name       37886 non-null  object \n",
      " 19  game_duration   4760 non-null   object \n",
      "dtypes: float64(1), int64(3), object(16)\n",
      "memory usage: 6.1+ MB\n"
     ]
    }
   ],
   "source": [
    "df_videos = pd.read_csv('chapters_pt0.csv', sep=';', encoding='iso-8859-1')\n",
    "for n in range(1,11):\n",
    "    df_video_temp = pd.read_csv(f'chapters_pt{n}.csv', sep=';', encoding='iso-8859-1')\n",
    "    df_videos = pd.concat([df_videos, df_video_temp], axis=0)\n",
    "df_videos.info()"
   ]
  },
  {
   "cell_type": "code",
   "execution_count": 17,
   "metadata": {},
   "outputs": [],
   "source": [
    "df_videos.to_csv(f'videos_with_chapters.csv', mode='w', sep=\";\", header=True, index=False, encoding='iso-8859-1')"
   ]
  }
 ],
 "metadata": {
  "colab": {
   "collapsed_sections": [],
   "name": "explorar_dados_TTV.ipynb",
   "provenance": []
  },
  "kernelspec": {
   "display_name": "Python 3 (ipykernel)",
   "language": "python",
   "name": "python3"
  },
  "language_info": {
   "codemirror_mode": {
    "name": "ipython",
    "version": 3
   },
   "file_extension": ".py",
   "mimetype": "text/x-python",
   "name": "python",
   "nbconvert_exporter": "python",
   "pygments_lexer": "ipython3",
   "version": "3.9.7"
  }
 },
 "nbformat": 4,
 "nbformat_minor": 4
}
