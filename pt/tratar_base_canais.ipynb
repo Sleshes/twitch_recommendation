{
 "cells": [
  {
   "cell_type": "code",
   "execution_count": null,
   "metadata": {
    "colab": {
     "base_uri": "https://localhost:8080/"
    },
    "executionInfo": {
     "elapsed": 15698,
     "status": "ok",
     "timestamp": 1644160575346,
     "user": {
      "displayName": "Sleshanniecode Player",
      "photoUrl": "https://lh3.googleusercontent.com/a-/AOh14Gix27Vcn73JQFy7Pw1L52En0aP_08o8TUFZy52ujQ=s64",
      "userId": "02687479860303225811"
     },
     "user_tz": 180
    },
    "id": "X_lN61XmHVyj",
    "outputId": "5c2808f0-e736-47ec-cee9-04d0a7eac597"
   },
   "outputs": [],
   "source": [
    "from google.colab import drive\n",
    "drive.mount('/content/drive')"
   ]
  },
  {
   "cell_type": "code",
   "execution_count": null,
   "metadata": {
    "colab": {
     "base_uri": "https://localhost:8080/"
    },
    "executionInfo": {
     "elapsed": 10858,
     "status": "ok",
     "timestamp": 1644160440346,
     "user": {
      "displayName": "Sleshanniecode Player",
      "photoUrl": "https://lh3.googleusercontent.com/a-/AOh14Gix27Vcn73JQFy7Pw1L52En0aP_08o8TUFZy52ujQ=s64",
      "userId": "02687479860303225811"
     },
     "user_tz": 180
    },
    "id": "peOpjNb3Hg5g",
    "outputId": "75c5a0a9-0b7f-4054-da68-345b64ee9453"
   },
   "outputs": [],
   "source": [
    "!pip install python-dotenv twitchAPI"
   ]
  },
  {
   "cell_type": "code",
   "execution_count": null,
   "metadata": {
    "executionInfo": {
     "elapsed": 1202,
     "status": "ok",
     "timestamp": 1644160576545,
     "user": {
      "displayName": "Sleshanniecode Player",
      "photoUrl": "https://lh3.googleusercontent.com/a-/AOh14Gix27Vcn73JQFy7Pw1L52En0aP_08o8TUFZy52ujQ=s64",
      "userId": "02687479860303225811"
     },
     "user_tz": 180
    },
    "id": "6cd3BtbNHjMH"
   },
   "outputs": [],
   "source": [
    "from dotenv import load_dotenv\n",
    "import os\n",
    "import json\n",
    "import pandas as pd\n",
    "\n",
    "#Carrega variaveis de ambiente para parametrização\n",
    "load_dotenv('vars.env')\n",
    "\n",
    "from twitchAPI.twitch import Twitch\n",
    "\n",
    "#Autenticacao\n",
    "twitch = Twitch(os.environ.get('cli_id'), os.environ.get('cli_token'))"
   ]
  },
  {
   "cell_type": "code",
   "execution_count": null,
   "metadata": {
    "colab": {
     "base_uri": "https://localhost:8080/"
    },
    "executionInfo": {
     "elapsed": 7696,
     "status": "ok",
     "timestamp": 1644163912909,
     "user": {
      "displayName": "Sleshanniecode Player",
      "photoUrl": "https://lh3.googleusercontent.com/a-/AOh14Gix27Vcn73JQFy7Pw1L52En0aP_08o8TUFZy52ujQ=s64",
      "userId": "02687479860303225811"
     },
     "user_tz": 180
    },
    "id": "akuP8kLvHlOr",
    "outputId": "634e49b0-ef4b-4b7e-b184-b119db85e516"
   },
   "outputs": [],
   "source": [
    "##Carga base de dados\n",
    "\n",
    "#No arquivo que gerei estava com sepador \",\" mas corrigi no script All_broadcasts_IDs_extract.ipynb\n",
    "#Com o separado \",\" gerou erros pois o titulo de algumas trammissões contiam  o caracter ','\n",
    "#para evitar este problema utilize o sepador \";\" para gerar o arquivo \"base_canais.csv\"\n",
    "# CC_channels = pd.read_csv('db/base_canais.csv', sep=';')\n",
    "\n",
    "#Base gerada a partir da lista do clivecast\n",
    "CC_channels = pd.read_csv('/db/base_canais.csv', sep=',')\n",
    "CC_channels_PT = CC_channels.loc[CC_channels['broadcaster_language'] == 'pt']\n",
    "# del CC_channels_PT[CC_channels_PT.columns[0]] # utilizar caso tenha o pandas tenha gerado a linha de index\n",
    "\n",
    "#fonte: \"https://twitchtracker.com/channels/viewership/portuguese?page=\"\n",
    "#Base de dados do Site do Twitch Tracker top 2500 streammers em portugues extraido dia 29/01/2022\n",
    "TT_channels = pd.read_csv('/db/TT_get_channels_tratado.csv', sep=';')\n",
    "\n",
    "\n",
    "\n",
    "#Junçao da base\n",
    "df = pd.concat([CC_channels_PT, TT_channels], ignore_index=True)\n",
    "df = df.astype({'broadcaster_id':'int64'})\n",
    "#total da base 45727 \n",
    "\n",
    "df.to_csv('/db/DF_STREAM_PT.csv', header=True, sep=';', index=False) # Salva todas as colunas (utilizar quando tiver o arquivo base_canais.csv com sep=;)\n",
    "df.to_csv('/db/DF_STREAM_PT_NOME_IDS.csv', columns=['broadcaster_id','broadcaster_login','broadcaster_name'], header=True, sep=';', index=False) # utilizei só as 3 primeiras colunas pra evitar o erro do titulo e o separador ','"
   ]
  }
 ],
 "metadata": {
  "colab": {
   "authorship_tag": "ABX9TyMsoY2dWTlekRj4Ab1deJ7l",
   "collapsed_sections": [],
   "name": "base_dados.ipynb",
   "provenance": []
  },
  "kernelspec": {
   "display_name": "Python 3 (ipykernel)",
   "language": "python",
   "name": "python3"
  },
  "language_info": {
   "codemirror_mode": {
    "name": "ipython",
    "version": 3
   },
   "file_extension": ".py",
   "mimetype": "text/x-python",
   "name": "python",
   "nbconvert_exporter": "python",
   "pygments_lexer": "ipython3",
   "version": "3.9.7"
  }
 },
 "nbformat": 4,
 "nbformat_minor": 4
}
