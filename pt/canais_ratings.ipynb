{
  "nbformat": 4,
  "nbformat_minor": 0,
  "metadata": {
    "colab": {
      "provenance": []
    },
    "kernelspec": {
      "name": "python3",
      "display_name": "Python 3"
    },
    "language_info": {
      "name": "python"
    }
  },
  "cells": [
    {
      "cell_type": "markdown",
      "source": [
        "- ratings baseados em 6 grupos separados pela quantidade de followers\n",
        "- o sistema irá priorizar os canais com maior público/mais populares dessa forma"
      ],
      "metadata": {
        "id": "J0rcxT1K2fS6"
      }
    },
    {
      "cell_type": "code",
      "execution_count": null,
      "metadata": {
        "colab": {
          "base_uri": "https://localhost:8080/"
        },
        "id": "uafNIkeENYyu",
        "outputId": "6c348e9b-16e2-4a17-a316-dda68eabac22"
      },
      "outputs": [
        {
          "output_type": "stream",
          "name": "stdout",
          "text": [
            "Mounted at /content/drive\n"
          ]
        }
      ],
      "source": [
        "#Usar google drive no google colab\n",
        "from google.colab import drive\n",
        "drive.mount('/content/drive')"
      ]
    },
    {
      "cell_type": "code",
      "source": [
        "import numpy as np\n",
        "import pandas as pd\n",
        "\n",
        "path = \"/content/drive/MyDrive/db_tcc\""
      ],
      "metadata": {
        "id": "l39yw9snD__L"
      },
      "execution_count": null,
      "outputs": []
    },
    {
      "cell_type": "code",
      "source": [
        "df_metrics = pd.read_csv(f\"{path}/all_metrics_filter.csv\", sep=\";\")"
      ],
      "metadata": {
        "id": "3_2IXDKkN1GW"
      },
      "execution_count": null,
      "outputs": []
    },
    {
      "cell_type": "code",
      "source": [
        "qtd_followers = df_metrics['total_followers'].to_list()\n",
        "qtd_followers.sort()"
      ],
      "metadata": {
        "id": "ANG49USpz7Cw"
      },
      "execution_count": null,
      "outputs": []
    },
    {
      "cell_type": "code",
      "source": [
        "def define_groups(l, threshold = .8):\n",
        "    groups = {}\n",
        "    its = 0\n",
        "    for i in l:\n",
        "        numbers_except = list(l)\n",
        "        del numbers_except[(l.index(i))]\n",
        "        for x in range(len(numbers_except)):\n",
        "            if percentage_diff(i, numbers_except[x]) < threshold:\n",
        "                try:\n",
        "                    groups[its].append(numbers_except[x])\n",
        "                except:\n",
        "                    groups[its] = [numbers_except[x]]\n",
        "                del l[l.index(numbers_except[x])]\n",
        "        try:\n",
        "            groups[its].append(i)\n",
        "        except:\n",
        "            groups[its] = [i]\n",
        "        its += 1\n",
        "    print(groups)\n",
        "\n",
        "def percentage_diff(a, b):\n",
        "    return abs(abs(a-b)) / max([a,b])"
      ],
      "metadata": {
        "id": "RgWv2ua_1zyG"
      },
      "execution_count": null,
      "outputs": []
    },
    {
      "cell_type": "code",
      "source": [
        "resultado = define_groups(qtd_followers)"
      ],
      "metadata": {
        "colab": {
          "base_uri": "https://localhost:8080/"
        },
        "id": "RNVXEnmg12RX",
        "outputId": "5fd76fdc-06db-47f4-9bbd-b8d89ab3e2cb"
      },
      "execution_count": null,
      "outputs": [
        {
          "output_type": "stream",
          "name": "stdout",
          "text": [
            "{0: [30], 1: [234], 2: [1820], 3: [14170], 4: [109952], 5: [3606669, 880650]}\n"
          ]
        }
      ]
    },
    {
      "cell_type": "code",
      "source": [
        "def range_groups(series):\n",
        "  if series >= 0 and series < 234:\n",
        "    return 0\n",
        "  elif series >= 234 and series < 1820:\n",
        "    return 1\n",
        "  elif series >= 1820 and series < 14170:\n",
        "    return 2\n",
        "  elif series >= 14170 and series < 109952:\n",
        "    return 3\n",
        "  elif series >= 109952 and series < 3606669:\n",
        "    return 4\n",
        "  else:\n",
        "    return 5"
      ],
      "metadata": {
        "id": "K9r8IEdW5uU8"
      },
      "execution_count": null,
      "outputs": []
    },
    {
      "cell_type": "code",
      "source": [
        "df_metrics[['rating']] = df_metrics[['total_followers']]\n",
        "df_metrics['rating'] = df_metrics['rating'].apply(range_groups)\n",
        "df_metrics[['item']] = df_metrics[['broadcaster_id']] #item e o mesmo que o user"
      ],
      "metadata": {
        "id": "Ghc0A5hL3AKu"
      },
      "execution_count": null,
      "outputs": []
    },
    {
      "cell_type": "code",
      "source": [
        "type(df_metrics['rating'])"
      ],
      "metadata": {
        "colab": {
          "base_uri": "https://localhost:8080/"
        },
        "id": "F8Ssqc1-9V33",
        "outputId": "dc6e05dc-665c-4b5b-8ab5-0f5af04d74f2"
      },
      "execution_count": null,
      "outputs": [
        {
          "output_type": "execute_result",
          "data": {
            "text/plain": [
              "pandas.core.series.Series"
            ]
          },
          "metadata": {},
          "execution_count": 35
        }
      ]
    },
    {
      "cell_type": "code",
      "source": [
        "ratings = df_metrics[['broadcaster_id', 'item', 'rating']]"
      ],
      "metadata": {
        "id": "pFRNTTYN9V-6"
      },
      "execution_count": null,
      "outputs": []
    },
    {
      "cell_type": "code",
      "source": [
        "ratings.to_csv(f'{path}/base_independentes/ratings.csv', mode='w', sep=\";\", header=True, index=False)"
      ],
      "metadata": {
        "id": "uPc1G_zWTNSn"
      },
      "execution_count": null,
      "outputs": []
    },
    {
      "cell_type": "code",
      "source": [],
      "metadata": {
        "id": "v20tdqjzHyvA"
      },
      "execution_count": null,
      "outputs": []
    }
  ]
}