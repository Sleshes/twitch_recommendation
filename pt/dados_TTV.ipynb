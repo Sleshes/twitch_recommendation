{
 "cells": [
  {
   "cell_type": "code",
   "execution_count": null,
   "metadata": {
    "colab": {
     "base_uri": "https://localhost:8080/"
    },
    "id": "tnyi5-Feu2oR",
    "outputId": "76ac1070-c356-49ce-d0a1-b122a7b05f58"
   },
   "outputs": [],
   "source": [
    "# !pip install python-dotenv twitchAPI"
   ]
  },
  {
   "cell_type": "code",
   "execution_count": null,
   "metadata": {},
   "outputs": [],
   "source": [
    "# https://pytwitchapi.readthedocs.io/en/v2.5.1/modules/twitchAPI.twitch.html?highlight=game%20id#twitchAPI.twitch.Twitch.get_games #doc api\n",
    "#https://github.com/Teekeks/pyTwitchAPI/blob/v2.5.1/twitchAPI/twitch.py #doc funcoes\n",
    "#https://dev.twitch.tv/docs/api/reference#get-clips #doc twitch api"
   ]
  },
  {
   "cell_type": "code",
   "execution_count": 1,
   "metadata": {},
   "outputs": [],
   "source": [
    "import scrapy\n",
    "from scrapy import Selector\n",
    "from selenium import webdriver\n",
    "from selenium.webdriver.common.by import By\n",
    "from selenium.webdriver.support.ui import WebDriverWait\n",
    "from selenium.webdriver.support import expected_conditions as EC\n",
    "from selenium.webdriver.chrome.service import Service\n",
    "from selenium.webdriver.common.keys import Keys\n",
    "from webdriver_manager.chrome import ChromeDriverManager\n",
    "from logzero import logfile, logger\n",
    "from random import randint"
   ]
  },
  {
   "cell_type": "code",
   "execution_count": 2,
   "metadata": {
    "id": "wmbmzmKauy5j"
   },
   "outputs": [],
   "source": [
    "from dotenv import load_dotenv\n",
    "import os\n",
    "import json\n",
    "import pandas as pd\n",
    "import numpy as np\n",
    "from datetime import datetime\n",
    "import twitchAPI.types as types\n",
    "\n",
    "datetime_inicio_str='2022-01-01 00:00:00'\n",
    "datetime_fim_str='2022-03-31 23:59:59'\n",
    "datetime_inicio = datetime.strptime(datetime_inicio_str, '%Y-%m-%d %H:%M:%S')\n",
    "datetime_fim = datetime.strptime(datetime_fim_str, '%Y-%m-%d %H:%M:%S')\n",
    "\n",
    "#Carrega variaveis de ambiente para parametrização\n",
    "load_dotenv('vars.env')\n",
    "\n",
    "from twitchAPI.twitch import Twitch\n",
    "\n",
    "#Autenticacao\n",
    "twitch = Twitch(os.environ.get('cli_id'), os.environ.get('cli_token'))"
   ]
  },
  {
   "cell_type": "code",
   "execution_count": null,
   "metadata": {},
   "outputs": [],
   "source": [
    "from twitchAPI.twitch import Twitch\n",
    "from twitchAPI.oauth import UserAuthenticator\n",
    "from twitchAPI.types import AuthScope\n",
    "twitch = Twitch(os.environ.get('cli_id'), os.environ.get('cli_token'))\n",
    "\n",
    "#Permissão com autenticação de usuario com o scope USER_READ_BROADCAST \n",
    "target_scope = [AuthScope.USER_READ_BROADCAST]\n",
    "auth = UserAuthenticator(twitch, target_scope, force_verify=False)\n",
    "# this will open your default browser and prompt you with the twitch verification website\n",
    "token, refresh_token = auth.authenticate()\n",
    "# add User authentication\n",
    "twitch.set_user_authentication(token, target_scope, refresh_token)\n",
    "\n",
    "#Eu só preciso do Scope caso eu defina que minha aplicação precise ter acesso a obtençao de informações sensivel do usuario\n",
    "\n",
    "# from twitchAPI.twitch import Twitch\n",
    "# from twitchAPI.oauth import UserAuthenticator\n",
    "# from twitchAPI.types import AuthScope\n",
    "\n",
    "# twitch = Twitch(os.environ.get('cli_id'), os.environ.get('cli_tok²‘¡²¡²¡²‘’en'))\n",
    "\n",
    "# target_scope = [AuthScope.BITS_REA, AuthScope.CHANNEL_SUBSCRIPTIONS]\n",
    "# auth = UserAuthenticator(twitch, target_scope, force_verify=False)\n",
    "# # this will open your default browser and prompt you with the twitch verification website\n",
    "# token, refresh_token = auth.authenticate()\n",
    "# # add User authentication\n",
    "# twitch.set_user_authentication(token, target_scope, refresh_token)\n",
    "\n",
    "#nota: para acessar informações quantidade de usuarios banidos ou com timeout, deve ter o papel de moderaçao do canal twitch.get_banned_users\n",
    "#nota: para acessar info de bits leaderboard tbm precisa de autencicao de usuario twitch.get_bits_leaderboard\n",
    "# twitch.get_broadcaster_subscriptions(broadcaster_id='225588135') requer autenticacao\n",
    "#get_extension_analytics\n"
   ]
  },
  {
   "cell_type": "code",
   "execution_count": null,
   "metadata": {
    "id": "Ih9A2xSWuyGq"
   },
   "outputs": [],
   "source": [
    "#Carga Lista de canais\n",
    "df = pd.read_csv('DF_STREAM_PT_NOME_IDS.csv', sep=';')"
   ]
  },
  {
   "cell_type": "markdown",
   "metadata": {},
   "source": [
    "# Total de follows"
   ]
  },
  {
   "cell_type": "code",
   "execution_count": null,
   "metadata": {},
   "outputs": [],
   "source": [
    "df[\"total_followers\"] = None\n",
    "for index, row in df.iterrows():\n",
    "    resultado_consulta = twitch.get_users_follows(to_id=row['broadcaster_id'], first=1)\n",
    "    # df[\"total_followers\"] = np.where(df[\"broadcaster_id\"] == row['broadcaster_id'], resultado_consulta['total'], None)\n",
    "    df.loc[df.broadcaster_id == row['broadcaster_id'], 'total_followers'] = resultado_consulta['total']\n",
    "df.to_csv('DF_STREAM_PT_NOME_IDS_wFollowers.csv', mode='w', sep=\";\", header=True, index=False)\n",
    "#Gerado em 01/03/2022 14:18"
   ]
  },
  {
   "cell_type": "markdown",
   "metadata": {},
   "source": [
    "# Time associado"
   ]
  },
  {
   "cell_type": "code",
   "execution_count": null,
   "metadata": {},
   "outputs": [],
   "source": [
    "df[\"team_id\"] = None\n",
    "for index, row in df.iterrows():\n",
    "    try:\n",
    "        resultado_consulta = twitch.get_channel_teams(broadcaster_id=row['broadcaster_id'])\n",
    "        df.loc[df.broadcaster_id == row['broadcaster_id'], 'team_id'] = int(resultado_consulta['data'][0]['id'])\n",
    "    except:\n",
    "        df.loc[df.broadcaster_id == row['broadcaster_id'], 'team_id'] = 0\n",
    "df.to_csv('DF_STREAM_PT_NOME_IDS_wteam.csv', mode='w', sep=\";\", header=True, index=False)\n",
    "#Gerado em 01/03/2022 21:50"
   ]
  },
  {
   "cell_type": "markdown",
   "metadata": {},
   "source": [
    "## Regras da quantidade de seguidores nos canais de streamming\n",
    "- Há 4458 stream com 1 follow \n",
    "- há 17.452  streamns com menos de 20 seguidores\n",
    "- # há 34.055   streamns com menos de 50 seguidores\n",
    "- há 13.244 streamns com menos menos 70% de 50 seguidores(35) que é o minimo do objetivo para se tornar afiliado da twitch\n",
    "- há 13.997  streamns com menos menos 60% de 50 seguidores(30) que é o minimo do objetivo para se tornar afiliado da twitch\n",
    "<!-- df.loc[(df.total_followers >= 30)] -->"
   ]
  },
  {
   "cell_type": "markdown",
   "metadata": {},
   "source": [
    "# Get subscriptions\n",
    "<i>Não é informação aberta </i>"
   ]
  },
  {
   "cell_type": "code",
   "execution_count": null,
   "metadata": {
    "tags": []
   },
   "outputs": [],
   "source": [
    "# # Eu só preciso do Scope caso eu defina que a aplicação precise ter acesso\n",
    "# # a obtençao de informações sensivel do usuario que ta acessando minha aplicaçao\n",
    "\n",
    "# #As informaçoes de get_broadcaster_subscriptions são obtiveis apenas apenas com autorizaçao dos usuario\n",
    "# #  Requires User authentication with scope :const:`twitchAPI.types.AuthScope.CHANNEL_READ_SUBSCRIPTIONS\n",
    "# from twitchAPI.twitch import Twitch\n",
    "# from twitchAPI.oauth import UserAuthenticator\n",
    "# from twitchAPI.types import AuthScope\n",
    "\n",
    "# twitch = Twitch(os.environ.get('cli_id'), os.environ.get('cli_token'))\n",
    "\n",
    "# target_scope = [AuthScope.BITS_READ, AuthScope.CHANNEL_SUBSCRIPTIONS, AuthScope.CHANNEL_READ_SUBSCRIPTIONS]\n",
    "# auth = UserAuthenticator(twitch, target_scope, force_verify=False)\n",
    "# # this will open your default browser and prompt you with the twitch verification website\n",
    "# token, refresh_token = auth.authenticate()\n",
    "# # add User authentication\n",
    "# twitch.set_user_authentication(token, target_scope, refresh_token)\n",
    "\n",
    "# twitch.get_broadcaster_subscriptions(broadcaster_id='225588135') "
   ]
  },
  {
   "cell_type": "markdown",
   "metadata": {},
   "source": [
    "# Get Videos"
   ]
  },
  {
   "cell_type": "code",
   "execution_count": null,
   "metadata": {
    "tags": []
   },
   "outputs": [],
   "source": [
    "# from twitchAPI.types import VideoType \n",
    "\n",
    "# df_ultima_steam = None\n",
    "# for index, row in df.iterrows():\n",
    "#     try:\n",
    "#         resultado_dict = twitch.get_videos(user_id=row['broadcaster_id'], first=1, video_type=VideoType.ALL)['data'][0]\n",
    "#         data_resultado_consulta = pd.DataFrame(resultado_dict)\n",
    "#         if df_ultima_steam == None:\n",
    "#             data_resultado_consulta.to_csv('ultimos_videos_registrados20220301.csv', mode='w', header=True, sep=';')\n",
    "#         else:\n",
    "#             data_resultado_consulta.to_csv('ultimos_videos_registrados20220301.csv', mode='a', header=False, sep=';')\n",
    "#     except:\n",
    "#         print('não encontrado:', row['broadcaster_id'])\n",
    "# #terminou de executar 02/03/2022"
   ]
  },
  {
   "cell_type": "markdown",
   "metadata": {},
   "source": [
    "# Get Emote Sets"
   ]
  },
  {
   "cell_type": "code",
   "execution_count": null,
   "metadata": {},
   "outputs": [],
   "source": [
    "df = pd.read_csv('DF_STREAM_PT_NOME_IDS_wteam.csv', sep=';')\n",
    "df[\"qtd_emotes\"] = None\n",
    "for index, row in df.iterrows():\n",
    "    try:\n",
    "        resultado_consulta = twitch.get_channel_emotes(broadcaster_id=row['broadcaster_id'])['data']\n",
    "        df.loc[df.broadcaster_id == row['broadcaster_id'], 'qtd_emotes'] = int(len(resultado_consulta))\n",
    "    except:\n",
    "        df.loc[df.broadcaster_id == row['broadcaster_id'], 'qtd_emotes'] = 0\n",
    "df.to_csv('DF_STREAM_PT_NOME_IDS_wqtdemotes.csv', mode='w', sep=\";\", header=True, index=False)"
   ]
  },
  {
   "cell_type": "markdown",
   "metadata": {},
   "source": [
    "# Get Stream markers\n",
    "- tem relaçao com os videos"
   ]
  },
  {
   "cell_type": "code",
   "execution_count": null,
   "metadata": {},
   "outputs": [],
   "source": [
    "df = pd.read_csv('DF_STREAM_PT_NOME_IDS_wteam.csv', sep=';')\n",
    "\n",
    "df_tags = pd.DataFrame({'tag_id': pd.Series(dtype='str'),\n",
    "                              'is_auto': pd.Series(dtype='boolean'),\n",
    "                              'localization_names': pd.Series(dtype='str'),\n",
    "                              'localization_descriptions': pd.Series(dtype='str'),\n",
    "                              'broadcaster_id': pd.Series(dtype='str')\n",
    "                              })\n",
    "df_tags.to_csv(f'canal_tags.csv', mode='w', sep=\";\", header=True, index=False)\n",
    "for index, row in df.iterrows():\n",
    "    try:\n",
    "        resultado_consulta = twitch.get_stream_tags(broadcaster_id=row['broadcaster_id'])\n",
    "        data_resultado_consulta = pd.DataFrame(resultado_consulta['data'])\n",
    "\n",
    "        #Normalizar coluna localization_names\n",
    "        data_resultado_consulta = data_resultado_consulta.join(pd.DataFrame(data_resultado_consulta.pop('localization_names').values.tolist()))\n",
    "        for column in data_resultado_consulta.columns.tolist():\n",
    "            if column not in ['tag_id', 'is_auto', 'localization_names', 'localization_descriptions', 'pt-br']:\n",
    "                data_resultado_consulta = data_resultado_consulta.drop([column], axis = 1)\n",
    "        data_resultado_consulta = data_resultado_consulta.rename(columns={\"pt-br\": \"localization_names\"})\n",
    "\n",
    "        #Normalizar coluna localization_descriptions\n",
    "        data_resultado_consulta = data_resultado_consulta.join(pd.DataFrame(data_resultado_consulta.pop('localization_descriptions').values.tolist()))\n",
    "        for column in data_resultado_consulta.columns.tolist():\n",
    "            if column not in ['tag_id', 'is_auto', 'localization_names', 'localization_descriptions', 'pt-br']:\n",
    "                data_resultado_consulta = data_resultado_consulta.drop([column], axis = 1)\n",
    "        data_resultado_consulta = data_resultado_consulta.rename(columns={\"pt-br\": \"localization_descriptions\"})\n",
    "\n",
    "        data_resultado_consulta['broadcaster_id'] = row['broadcaster_id']\n",
    "        data_resultado_consulta.to_csv('canal_tags.csv', mode='a', sep=\";\", header=False, index=False)\n",
    "    except:\n",
    "        pd.DataFrame([row_id.to_dict()]).to_csv('streammers_sem_tags.csv', mode='a', sep=\";\", header=False, index=False)"
   ]
  },
  {
   "cell_type": "code",
   "execution_count": null,
   "metadata": {},
   "outputs": [],
   "source": [
    "print('oi')"
   ]
  },
  {
   "cell_type": "code",
   "execution_count": null,
   "metadata": {},
   "outputs": [],
   "source": [
    "# from ast import literal_eval\n",
    "\n",
    "# data_resultado_consulta.localization_names = data_resultado_consulta.localization_names.fillna({i: {} for i in data_resultado_consulta.index})"
   ]
  },
  {
   "cell_type": "code",
   "execution_count": null,
   "metadata": {},
   "outputs": [],
   "source": [
    "import os \n",
    "  \n",
    "# shutdown = input(\"Do you wish to shutdown your computer ? (yes / no): \") \n",
    "  \n",
    "# if shutdown == 'no': \n",
    "#     exit() \n",
    "# else: \n",
    "\n",
    "os.system(\"shutdown /s /t 1\") "
   ]
  },
  {
   "cell_type": "code",
   "execution_count": null,
   "metadata": {},
   "outputs": [],
   "source": []
  }
 ],
 "metadata": {
  "colab": {
   "collapsed_sections": [],
   "name": "explorar_dados_TTV.ipynb",
   "provenance": []
  },
  "kernelspec": {
   "display_name": "Python 3 (ipykernel)",
   "language": "python",
   "name": "python3"
  },
  "language_info": {
   "codemirror_mode": {
    "name": "ipython",
    "version": 3
   },
   "file_extension": ".py",
   "mimetype": "text/x-python",
   "name": "python",
   "nbconvert_exporter": "python",
   "pygments_lexer": "ipython3",
   "version": "3.9.7"
  }
 },
 "nbformat": 4,
 "nbformat_minor": 4
}
